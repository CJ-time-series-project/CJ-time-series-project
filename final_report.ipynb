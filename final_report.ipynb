{
 "cells": [
  {
   "cell_type": "markdown",
   "metadata": {},
   "source": [
    "# Time-Series Project - VP of Marketing\n",
    "\n",
    "Name: Craig C. and Jerry N."
   ]
  },
  {
   "cell_type": "markdown",
   "metadata": {},
   "source": [
    "<h2>Goals</h2>\n",
    "\n",
    "- Determine the best way to launch a new marketing campaign in the near future.\n",
    "\n",
    "- Determine the target of the campaign.\n",
    "\n",
    "- Back reccomendations of target with statistics and visualizations.\n",
    "\n",
    "<h2>Executive Summary</h2>\n",
    "\n",
    "- The central region of the US has the least amount of proft consiting of less than 2% of total proft.\n",
    "\n",
    "- Within the central region Texas has the least amount of proft and in some cases we are losing profit.\n",
    "\n",
    "- Looking at Texas, San Antonio and Houston are the largest contributors to the loss of profit. \n",
    "\n",
    "- The loss of profit is due to the amount of discount being applied to the products.\n"
   ]
  },
  {
   "cell_type": "code",
   "execution_count": null,
   "metadata": {},
   "outputs": [],
   "source": []
  },
  {
   "cell_type": "code",
   "execution_count": null,
   "metadata": {},
   "outputs": [],
   "source": []
  }
 ],
 "metadata": {
  "language_info": {
   "name": "python"
  },
  "orig_nbformat": 4
 },
 "nbformat": 4,
 "nbformat_minor": 2
}
